{
  "nbformat": 4,
  "nbformat_minor": 0,
  "metadata": {
    "colab": {
      "provenance": []
    },
    "kernelspec": {
      "name": "python3",
      "display_name": "Python 3"
    },
    "language_info": {
      "name": "python"
    }
  },
  "cells": [
    {
      "cell_type": "markdown",
      "source": [
        "Assignmemt"
      ],
      "metadata": {
        "id": "cSfZTS1L6kxC"
      }
    },
    {
      "cell_type": "markdown",
      "source": [
        "Q1, Create a vehicle class with an init method having instance variables as name_of_vehicle, max_speed\n",
        "and average_of_vehicle."
      ],
      "metadata": {
        "id": "pYDOLdcG6po_"
      }
    },
    {
      "cell_type": "code",
      "source": [
        "class vehicle:\n",
        "    def __init__(self, name_of_vehicle, max_speed, average_of_vehicle):\n",
        "      self.name_of_vehicle = name_of_vehicle\n",
        "      self.max_speed = max_speed\n",
        "      self.average_of_vehicle = average_of_vehicle"
      ],
      "metadata": {
        "id": "-7fa7xTC67yU"
      },
      "execution_count": 3,
      "outputs": []
    },
    {
      "cell_type": "markdown",
      "source": [
        "Q2. Create a child class car from the vehicle class created in Que 1, which will inherit the vehicle class.\n",
        "Create a method named seating_capacity which takes capacity as an argument and returns the name of\n",
        "the vehicle and its seating capacity."
      ],
      "metadata": {
        "id": "VlFdta0H6tnQ"
      }
    },
    {
      "cell_type": "code",
      "source": [
        "class car(vehicle):\n",
        "  def __init__(self, seating_capacity):\n",
        "    self.seating_capacity = seating_capacity\n",
        "\n",
        "  def return_car_details(self):\n",
        "    return self.name_of_vehicle\n"
      ],
      "metadata": {
        "id": "DYy8EGjO7i70"
      },
      "execution_count": 5,
      "outputs": []
    },
    {
      "cell_type": "markdown",
      "source": [
        "Q3. What is multiple inheritance? Write a python code to demonstrate multiple inheritance."
      ],
      "metadata": {
        "id": "94uNmcJ66yCd"
      }
    },
    {
      "cell_type": "code",
      "source": [
        "#When a class is derived from more than one base class it is called multiple Inheritance.\n",
        "#The derived class inherits all the features of the base case.\n",
        "\n",
        "\n",
        "class class1 :\n",
        "    def test_class1(self) :\n",
        "        print(\"this is my class1 \" )\n",
        "\n",
        "\n",
        "class class2(class1) :\n",
        "    def test_class2(self) :\n",
        "        print(\"this is my class2\" )\n",
        "\n",
        "class class3(class2) :\n",
        "    def test_class3(self) :\n",
        "        print(\"this is my class3 \")\n",
        "\n",
        "obj_class3.test_class1()"
      ],
      "metadata": {
        "id": "yxMITB2k_g6K"
      },
      "execution_count": null,
      "outputs": []
    },
    {
      "cell_type": "markdown",
      "source": [
        "Q4. What are getter and setter in python? Create a class and create a getter and a setter method in this\n",
        "class."
      ],
      "metadata": {
        "id": "mljFF8CE60wi"
      }
    },
    {
      "cell_type": "markdown",
      "source": [
        " getter and setter methods are used to control access to the attributes of a class. They provide a way to encapsulate the access and modification of attributes, allowing for more controlled and flexible behavior."
      ],
      "metadata": {
        "id": "pjINpjn7Apsj"
      }
    },
    {
      "cell_type": "code",
      "source": [
        "class Rectangle:\n",
        "    def __init__(self, width, height):\n",
        "        self._width = width\n",
        "        self._height = height\n",
        "\n",
        "    def get_width(self):\n",
        "        return self._width\n",
        "\n",
        "    def set_width(self, width):\n",
        "        if width > 0:\n",
        "            self._width = width\n",
        "        else:\n",
        "            print(\"Width must be greater than 0\")\n",
        "\n",
        "    def get_height(self):\n",
        "        return self._height\n",
        "\n",
        "    def set_height(self, height):\n",
        "        if height > 0:\n",
        "            self._height = height\n",
        "        else:\n",
        "            print(\"Height must be greater than 0\")\n",
        "\n",
        "# Creating an instance of Rectangle\n",
        "rectangle = Rectangle(5, 10)\n",
        "\n",
        "# Using getter methods to retrieve attribute values\n",
        "print(\"Width:\", rectangle.get_width())   # Output: Width: 5\n",
        "print(\"Height:\", rectangle.get_height()) # Output: Height: 10\n",
        "\n",
        "# Using setter methods to modify attribute values\n",
        "rectangle.set_width(8)\n",
        "rectangle.set_height(12)\n",
        "\n",
        "# Using getter methods again to verify changes\n",
        "print(\"New Width:\", rectangle.get_width())   # Output: New Width: 8\n",
        "print(\"New Height:\", rectangle.get_height()) # Output: New Height: 12"
      ],
      "metadata": {
        "colab": {
          "base_uri": "https://localhost:8080/"
        },
        "id": "pu0_AD95AI9-",
        "outputId": "a3cb8480-fdb7-4b8b-e45b-7c27202a1018"
      },
      "execution_count": null,
      "outputs": [
        {
          "output_type": "stream",
          "name": "stdout",
          "text": [
            "Width: 5\n",
            "Height: 10\n",
            "New Width: 8\n",
            "New Height: 12\n"
          ]
        }
      ]
    },
    {
      "cell_type": "markdown",
      "source": [
        "Q5.What is method overriding in python? Write a python code to demonstrate method overriding."
      ],
      "metadata": {
        "id": "N9U0jo9G64gv"
      }
    },
    {
      "cell_type": "markdown",
      "source": [
        "Method overriding is an ability of any object-oriented programming language that allows a subclass or child class to provide a specific implementation of a method that is already provided by one of its super-classes or parent classes."
      ],
      "metadata": {
        "id": "R15bRDLZAKlq"
      }
    },
    {
      "cell_type": "code",
      "source": [
        "class Animal:\n",
        "    def make_sound(self):\n",
        "        print(\"Generic animal sound\")\n",
        "\n",
        "class Dog(Animal):\n",
        "    def make_sound(self):\n",
        "        print(\"Woof woof\")\n",
        "\n",
        "class Cat(Animal):\n",
        "    def make_sound(self):\n",
        "        print(\"Meow\")\n",
        "\n",
        "# Creating instances of Dog and Cat\n",
        "dog = Dog()\n",
        "cat = Cat()\n",
        "\n",
        "# Calling the make_sound method for Dog and Cat instances\n",
        "dog.make_sound()  # Output: Woof woof\n",
        "cat.make_sound()  # Output: Meow"
      ],
      "metadata": {
        "id": "lsVl-naBALmQ"
      },
      "execution_count": null,
      "outputs": []
    }
  ]
}